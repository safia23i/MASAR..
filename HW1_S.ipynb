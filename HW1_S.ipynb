{
  "nbformat": 4,
  "nbformat_minor": 0,
  "metadata": {
    "colab": {
      "provenance": [],
      "authorship_tag": "ABX9TyOfW8J/mFSc4zqs6l3W9w6P",
      "include_colab_link": true
    },
    "kernelspec": {
      "name": "python3",
      "display_name": "Python 3"
    },
    "language_info": {
      "name": "python"
    }
  },
  "cells": [
    {
      "cell_type": "markdown",
      "metadata": {
        "id": "view-in-github",
        "colab_type": "text"
      },
      "source": [
        "<a href=\"https://colab.research.google.com/github/safia23i/MASAR../blob/main/HW1_S.ipynb\" target=\"_parent\"><img src=\"https://colab.research.google.com/assets/colab-badge.svg\" alt=\"Open In Colab\"/></a>"
      ]
    },
    {
      "cell_type": "code",
      "execution_count": null,
      "metadata": {
        "id": "54BKtsPYlQFr"
      },
      "outputs": [],
      "source": []
    },
    {
      "cell_type": "code",
      "source": [
        "#الكود الاول مع منصه مسار\n",
        "\n",
        "name = \"safia\"\n",
        "\n",
        "age = 23\n",
        "\n",
        "print(\"my name Is \" + name)\n",
        "\n",
        "print(\"str\", age)\n",
        "print(\"سأصبح افضل محللة بيانات\")\n",
        "\n"
      ],
      "metadata": {
        "colab": {
          "base_uri": "https://localhost:8080/"
        },
        "id": "zu3SFvsMmgpv",
        "outputId": "ebc5dd62-0515-4872-dce2-111ff3972bce"
      },
      "execution_count": 6,
      "outputs": [
        {
          "output_type": "stream",
          "name": "stdout",
          "text": [
            "my name Is safia\n",
            "str 23\n",
            "سأصبح افضل محللة بيانات\n"
          ]
        }
      ]
    }
  ]
}