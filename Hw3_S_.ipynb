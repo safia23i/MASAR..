{
  "nbformat": 4,
  "nbformat_minor": 0,
  "metadata": {
    "colab": {
      "provenance": [],
      "include_colab_link": true
    },
    "kernelspec": {
      "name": "python3",
      "display_name": "Python 3"
    },
    "language_info": {
      "name": "python"
    }
  },
  "cells": [
    {
      "cell_type": "markdown",
      "metadata": {
        "id": "view-in-github",
        "colab_type": "text"
      },
      "source": [
        "<a href=\"https://colab.research.google.com/github/safia23i/MASAR../blob/main/Hw3_S_.ipynb\" target=\"_parent\"><img src=\"https://colab.research.google.com/assets/colab-badge.svg\" alt=\"Open In Colab\"/></a>"
      ]
    },
    {
      "cell_type": "code",
      "source": [
        "'''\n",
        "1. Write a Python program to construct the following pattern, using a nested for loop. (Get the number of the 'stars' from the user).\n",
        "\n",
        "*\n",
        "* *\n",
        "* * *\n",
        "* * * *\n",
        "* * * * *\n",
        "* * * *\n",
        "* * *\n",
        "* *\n",
        "*\n",
        "'''"
      ],
      "metadata": {
        "colab": {
          "base_uri": "https://localhost:8080/",
          "height": 52
        },
        "id": "eXJ4hoG8CypD",
        "outputId": "76ebd440-7354-4b25-8c53-f67256683131"
      },
      "execution_count": 1,
      "outputs": [
        {
          "output_type": "execute_result",
          "data": {
            "text/plain": [
              "\"\\n1. Write a Python program to construct the following pattern, using a nested for loop. (Get the number of the 'stars' from the user).\\n\\n*\\n* *\\n* * *\\n* * * *\\n* * * * *\\n* * * *\\n* * *\\n* *\\n*\\n\""
            ],
            "application/vnd.google.colaboratory.intrinsic+json": {
              "type": "string"
            }
          },
          "metadata": {},
          "execution_count": 1
        }
      ]
    },
    {
      "cell_type": "code",
      "source": [
        "# Set the value of 'n' to 5 (this will determine the number of lines in the pattern)\n",
        "n = 5\n",
        "\n",
        "# Iterate through the range of numbers from 0 to 'n' (exclusive)\n",
        "for i in range(n):\n",
        "    # Iterate through the range of numbers from 0 to 'i' (exclusive) for each 'i' in the outer loop\n",
        "    for j in range(i):\n",
        "        # Print '*' followed by a space without a new line (end=\"\" ensures printing in the same line)\n",
        "        print('* ', end=\"\")\n",
        "    # Move to the next line after printing '*' characters for the current 'i'\n",
        "    print('')\n",
        "\n",
        "# Iterate through the range of numbers from 'n' down to 1 (inclusive), decreasing by 1 in each iteration\n",
        "for i in range(n, 0, -1):\n",
        "    # Iterate through the range of numbers from 0 to 'i' (exclusive) for each 'i' in the outer loop\n",
        "    for j in range(i):\n",
        "        # Print '*' followed by a space without a new line (end=\"\" ensures printing in the same line)\n",
        "        print('* ', end=\"\")\n",
        "    # Move to the next line after printing '*' characters for the current 'i'\n",
        "    print('')"
      ],
      "metadata": {
        "colab": {
          "base_uri": "https://localhost:8080/"
        },
        "id": "BUuJgsR4C7Gs",
        "outputId": "66eb77dd-f311-40d3-ec19-1fae8cc3c8ce"
      },
      "execution_count": 2,
      "outputs": [
        {
          "output_type": "stream",
          "name": "stdout",
          "text": [
            "\n",
            "* \n",
            "* * \n",
            "* * * \n",
            "* * * * \n",
            "* * * * * \n",
            "* * * * \n",
            "* * * \n",
            "* * \n",
            "* \n"
          ]
        }
      ]
    },
    {
      "cell_type": "markdown",
      "source": [
        "2. Print the first 3 prime numbers that are greater than 10 but less than 99.\n"
      ],
      "metadata": {
        "id": "liT7vkVNDS1C"
      }
    },
    {
      "cell_type": "code",
      "source": [
        "def is_prime(num):\n",
        "    \"\"\"Check if a number is prime.\"\"\"\n",
        "    if num < 2:\n",
        "        return False\n",
        "    for i in range(2, int(num**0.5) + 1):\n",
        "        if num % i == 0:\n",
        "            return False\n",
        "    return True\n",
        "\n",
        "# Find the first 3 prime numbers greater than 10 but less than 99\n",
        "count = 0\n",
        "number = 11  # Start checking from 11\n",
        "\n",
        "while count < 3:\n",
        "    if is_prime(number):\n",
        "        print(number)\n",
        "        count += 1\n",
        "    number += 1"
      ],
      "metadata": {
        "colab": {
          "base_uri": "https://localhost:8080/"
        },
        "id": "4Scgw3UIDTtg",
        "outputId": "fe4c0002-5200-475c-dd0c-96436e298609"
      },
      "execution_count": 3,
      "outputs": [
        {
          "output_type": "stream",
          "name": "stdout",
          "text": [
            "11\n",
            "13\n",
            "17\n"
          ]
        }
      ]
    }
  ]
}