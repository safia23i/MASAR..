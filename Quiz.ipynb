{
  "nbformat": 4,
  "nbformat_minor": 0,
  "metadata": {
    "colab": {
      "provenance": [],
      "include_colab_link": true
    },
    "kernelspec": {
      "name": "python3",
      "display_name": "Python 3"
    },
    "language_info": {
      "name": "python"
    }
  },
  "cells": [
    {
      "cell_type": "markdown",
      "metadata": {
        "id": "view-in-github",
        "colab_type": "text"
      },
      "source": [
        "<a href=\"https://colab.research.google.com/github/safia23i/MASAR../blob/main/Quiz.ipynb\" target=\"_parent\"><img src=\"https://colab.research.google.com/assets/colab-badge.svg\" alt=\"Open In Colab\"/></a>"
      ]
    },
    {
      "cell_type": "markdown",
      "source": [
        "فلتعتبر أن لديك مصفوفة فيها عدة أرقام, حاول أن تجد عددين يكون المجموع عدد معرف مسبق معطى لك. فلنفرض أن المجموع موجود في هذه المصفوفة\n",
        "\n",
        "\n",
        "قم بالآتي:\n",
        "1. افتح صفحة جديدة في جوبتر نووت وحاول أنت تحل السؤال بلغة بايثون\n",
        "2. ارفع الملف أو الرابط ليتم تصحيحه\n",
        "\n",
        "في الأسفل نموذج حل, حاول أن تطلع عليه بعد أن تحاول الحل\n",
        "\n",
        "\n",
        "[Video Solution](https://www.youtube.com/watch?v=JMCTsP0Jxmc)\n",
        "\n"
      ],
      "metadata": {
        "id": "SnyFgfnyEu1g"
      }
    },
    {
      "cell_type": "code",
      "execution_count": 1,
      "metadata": {
        "id": "spgwwSHWEtHK",
        "outputId": "29eda41e-3186-4f37-b43e-a0d1a50bc789",
        "colab": {
          "base_uri": "https://localhost:8080/"
        }
      },
      "outputs": [
        {
          "output_type": "stream",
          "name": "stdout",
          "text": [
            "[0, 5]\n"
          ]
        }
      ],
      "source": [
        "def two_sum(nums, target):\n",
        "    # Create a dictionary to store the difference between the target sum and each number\n",
        "    num_dict = {}\n",
        "\n",
        "    # Iterate through the array\n",
        "    for i, num in enumerate(nums):\n",
        "        # Calculate the difference needed to reach the target sum\n",
        "        difference = target - num\n",
        "\n",
        "        # If the difference is already in the dictionary, it means we found the pair\n",
        "        if difference in num_dict:\n",
        "            # Return the indices of the current number and the number that makes up the target sum\n",
        "            return [num_dict[difference], i]\n",
        "\n",
        "        # Otherwise, add the current number and its index to the dictionary\n",
        "        num_dict[num] = i\n",
        "\n",
        "    # If no solution is found, return None or an empty list\n",
        "    return None\n",
        "\n",
        "# Example usage:\n",
        "nums = [2, 5, 11, 15,6,7,9,10]\n",
        "target = 9\n",
        "print(two_sum(nums, target))  # Output: [0, 5] (indices of numbers 2 and 7 which add up to 9)"
      ]
    }
  ]
}